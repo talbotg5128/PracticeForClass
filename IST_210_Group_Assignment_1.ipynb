{
  "nbformat": 4,
  "nbformat_minor": 0,
  "metadata": {
    "colab": {
      "name": "IST 210 Group Assignment 1.ipynb",
      "provenance": [],
      "collapsed_sections": [],
      "include_colab_link": true
    },
    "kernelspec": {
      "name": "python3",
      "display_name": "Python 3"
    }
  },
  "cells": [
    {
      "cell_type": "markdown",
      "metadata": {
        "id": "view-in-github",
        "colab_type": "text"
      },
      "source": [
        "<a href=\"https://colab.research.google.com/github/talbotg5128/PracticeForClass/blob/master/IST_210_Group_Assignment_1.ipynb\" target=\"_parent\"><img src=\"https://colab.research.google.com/assets/colab-badge.svg\" alt=\"Open In Colab\"/></a>"
      ]
    },
    {
      "cell_type": "markdown",
      "metadata": {
        "id": "UblhAIGuGF27",
        "colab_type": "text"
      },
      "source": [
        "Business: The Penn Stater Hotel\n",
        "\n",
        "\n",
        "\n"
      ]
    },
    {
      "cell_type": "markdown",
      "metadata": {
        "id": "RlR0_Ol4GW3b",
        "colab_type": "text"
      },
      "source": [
        "### what is your idea?"
      ]
    },
    {
      "cell_type": "markdown",
      "metadata": {
        "id": "HU68Zv5MGY97",
        "colab_type": "text"
      },
      "source": [
        "Our idea is to explain the process of checking into and staying at the Nitanny lion Inn. There are many entities and attributes that can be used through this and many connections and relationships.\n",
        "\n",
        "\n"
      ]
    },
    {
      "cell_type": "markdown",
      "metadata": {
        "id": "45Q0PBrIGiIg",
        "colab_type": "text"
      },
      "source": [
        "### what makes it unique?"
      ]
    },
    {
      "cell_type": "markdown",
      "metadata": {
        "id": "8WOfTAuqGjoc",
        "colab_type": "text"
      },
      "source": [
        "This is a unique idea because it specifically pertains to families and students at Penn State. It is a popular hotel in the area so it can be directly related to students in the class. "
      ]
    },
    {
      "cell_type": "markdown",
      "metadata": {
        "id": "dVrktWdXGl19",
        "colab_type": "text"
      },
      "source": [
        "### is this a brand-new product or business, or are you borrowing from another business?"
      ]
    },
    {
      "cell_type": "markdown",
      "metadata": {
        "id": "MmGY0leUGnaN",
        "colab_type": "text"
      },
      "source": [
        "This is a product that is borrowed from another business. The model is based off of the Nitanny Lion Inn and all of the attributes correspond to that of a normal hotel."
      ]
    },
    {
      "cell_type": "markdown",
      "metadata": {
        "id": "k3oJzVDPGnws",
        "colab_type": "text"
      },
      "source": [
        "### describe a typical business interaction or a day at your business."
      ]
    },
    {
      "cell_type": "markdown",
      "metadata": {
        "id": "DNwu5erJoX6P",
        "colab_type": "text"
      },
      "source": [
        "The guests check in with the employees at the front desk and tell them their name, the number of nights they are planning to stay for, and give the money over for the cost of the stay. The employee has their name, their job position, and a salary. The employee then gives the customer a room type, floor number, and room number. The linens in the room have a type, a number, and a price. The employees will change the linnens for the customer in their room. Once the customer is checked into the Nittany Lion Inn, they are welcome to use ammenities the hotel offers. The amenities have a cost, name, and location. "
      ]
    },
    {
      "cell_type": "markdown",
      "metadata": {
        "id": "iUFoC5BuGpID",
        "colab_type": "text"
      },
      "source": [
        "### list your 5 entities/tables and for each, provide details about what data will be stored in the entities/tables."
      ]
    },
    {
      "cell_type": "markdown",
      "metadata": {
        "id": "AiZXrfSMGqZm",
        "colab_type": "text"
      },
      "source": [
        "1. Rooms\n",
        "-- attributes: room number, room type, floor room is on\n",
        "\n",
        "2. Hotel Employees\n",
        "\n",
        "-- attributes: name, job position, salary \n",
        "\n",
        "3. Linens (towels, sheets, etc.)\n",
        "\n",
        "-- attributes: type of linen (is this a towel/sheet? what kind?), number of linen type, cost\n",
        "\n",
        "4. Hotel ameneties (pool, restaurant, laundromat, etc.)\n",
        "\n",
        "-- attributes: name of amenety, location, overhead cost\n",
        "\n",
        "5. Guests-this is the “end-user” real-time/dynamic data\n",
        "\n",
        "-- attributes: room staying in, number of nights, total bill "
      ]
    },
    {
      "cell_type": "markdown",
      "metadata": {
        "id": "h2mJWTewHLSn",
        "colab_type": "text"
      },
      "source": [
        "Draw IO Entity Relationship Diagram \n",
        "[link text](https://)\n",
        "- save your ER Diagram in Draw.io as PNG and upload it to GitHub\n",
        "\n",
        "  - then add an image to your notebook ![image of ER Diagram](https://raw.githubusercontent.com/ericliu171/hello-world/master/IST%20210%20Group%20Assignment%201.png)"
      ]
    },
    {
      "cell_type": "markdown",
      "metadata": {
        "id": "sIPQsmEVpIvW",
        "colab_type": "text"
      },
      "source": [
        ""
      ]
    },
    {
      "cell_type": "markdown",
      "metadata": {
        "id": "WFQXwieoHiCe",
        "colab_type": "text"
      },
      "source": [
        "### provide a goal for your project "
      ]
    },
    {
      "cell_type": "markdown",
      "metadata": {
        "id": "cKmoiVHrHnHF",
        "colab_type": "text"
      },
      "source": [
        "Our goal for this project is to show the relationships between entities and attributes, regarding the Nittany Lion Inn. Hotels have many factors and connecting items, so the relationships between guests, rooms, employees, linens, and hotel ameneties are exemplified."
      ]
    }
  ]
}