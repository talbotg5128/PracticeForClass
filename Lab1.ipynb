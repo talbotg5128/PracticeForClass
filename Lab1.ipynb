{
  "nbformat": 4,
  "nbformat_minor": 0,
  "metadata": {
    "colab": {
      "name": "Lab1.ipynb",
      "provenance": [],
      "collapsed_sections": [],
      "authorship_tag": "ABX9TyOE23R0w1piCyuS/YOZvca5",
      "include_colab_link": true
    },
    "kernelspec": {
      "name": "python3",
      "display_name": "Python 3"
    }
  },
  "cells": [
    {
      "cell_type": "markdown",
      "metadata": {
        "id": "view-in-github",
        "colab_type": "text"
      },
      "source": [
        "<a href=\"https://colab.research.google.com/github/talbotg5128/PracticeForClass/blob/master/Lab1.ipynb\" target=\"_parent\"><img src=\"https://colab.research.google.com/assets/colab-badge.svg\" alt=\"Open In Colab\"/></a>"
      ]
    },
    {
      "cell_type": "markdown",
      "metadata": {
        "id": "-bdjZ24EgXPO",
        "colab_type": "text"
      },
      "source": [
        "## Do you like using Jupyter Notebooks?"
      ]
    },
    {
      "cell_type": "markdown",
      "metadata": {
        "id": "9qf82kK1go4I",
        "colab_type": "text"
      },
      "source": [
        "Using Jupyter Notebooks is a cool way to connect with Google colabs. It will take a little while to get used to but I am excited to learn more. It is a little complex but I am eager to learn."
      ]
    },
    {
      "cell_type": "markdown",
      "metadata": {
        "id": "6RNNzfT7gZGy",
        "colab_type": "text"
      },
      "source": [
        "##What do you want to learn more about in Jupyter Notebooks?"
      ]
    },
    {
      "cell_type": "markdown",
      "metadata": {
        "id": "ljjSf599glWe",
        "colab_type": "text"
      },
      "source": [
        "I would love to learn more about the code in Jupyter Notebooks. Being more fluid in coding is always a good skill to have because it will make me a better coder. I would love to learn what other options there are in the \"Code\" section of Notebooks. We have only been using \"text\" so I would like to explore that a little bit. "
      ]
    },
    {
      "cell_type": "markdown",
      "metadata": {
        "id": "Pm3ZCFrkgsud",
        "colab_type": "text"
      },
      "source": [
        "![pier in Barcelona](https://raw.githubusercontent.com/talbotg5128/PracticeForClass/master/Images/track%203.jpg)"
      ]
    },
    {
      "cell_type": "markdown",
      "metadata": {
        "id": "AU6UQxqXhSgk",
        "colab_type": "text"
      },
      "source": [
        ""
      ]
    }
  ]
}